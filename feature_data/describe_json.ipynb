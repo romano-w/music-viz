{
 "cells": [
  {
   "cell_type": "code",
   "execution_count": 2,
   "metadata": {},
   "outputs": [
    {
     "name": "stdout",
     "output_type": "stream",
     "text": [
      "beat_data -> tempo ->  <class 'int'>\n",
      "beat_data -> beat_times ->  List of length 196 containing <class 'float'>\n",
      "energy_data -> rms_values ->  List of length 196 containing <class 'float'>\n",
      "energy_data -> rms_threshold ->  <class 'float'>\n",
      "energy_data -> high_energy_beats ->  List of length 114 containing <class 'float'>\n",
      "energy_data -> low_energy_beats ->  List of length 82 containing <class 'float'>\n",
      "smoothed_volumes -> original ->  List of length 7896 containing <class 'float'>\n",
      "smoothed_volumes -> smoothed -> t_1_s ->  List of length 7896 containing <class 'float'>\n",
      "smoothed_volumes -> smoothed -> t_3_s ->  List of length 7896 containing <class 'float'>\n",
      "smoothed_volumes -> smoothed -> t_9_s ->  List of length 7896 containing <class 'float'>\n",
      "frequency_data -> bass -> freq_range ->  List of length 2 containing <class 'int'>\n",
      "frequency_data -> bass -> amplitude_values ->  List of length 7896 containing <class 'float'>\n",
      "frequency_data -> mid -> freq_range ->  List of length 2 containing <class 'int'>\n",
      "frequency_data -> mid -> amplitude_values ->  List of length 7896 containing <class 'float'>\n",
      "frequency_data -> treble -> freq_range ->  List of length 2 containing <class 'int'>\n",
      "frequency_data -> treble -> amplitude_values ->  List of length 7896 containing <class 'float'>\n",
      "chroma_data -> chroma ->  List of length 12 containing <class 'list'>\n",
      "chroma_data -> chroma_avg ->  List of length 12 containing <class 'float'>\n",
      "chroma_data -> key_idx ->  <class 'int'>\n",
      "chroma_data -> key ->  <class 'str'>\n",
      "transients -> onset_times ->  List of length 152 containing <class 'float'>\n",
      "transients -> labels ->  List of length 152 containing <class 'int'>\n",
      "melody_data -> melody_line ->  List of length 7896 containing <class 'float'>\n",
      "melody_data -> quantized_midi_numbers ->  List of length 7896 containing <class 'int'>\n",
      "melody_data -> time_vector ->  List of length 7896 containing <class 'float'>\n"
     ]
    }
   ],
   "source": [
    "import json\n",
    "\n",
    "def traverse_json(data, prefix=''):\n",
    "    \"\"\"Recursively traverses a JSON-like dictionary and prints out data types and shapes.\"\"\"\n",
    "    if isinstance(data, dict):\n",
    "        for key, value in data.items():\n",
    "            traverse_json(value, prefix + key + ' -> ')\n",
    "    elif isinstance(data, list):\n",
    "        print(f\"{prefix} List of length {len(data)} containing {type(data[0]) if data else 'Unknown'}\")\n",
    "    else:\n",
    "        print(f\"{prefix} {type(data)}\")\n",
    "\n",
    "if __name__ == \"__main__\":\n",
    "    with open('abstract-future-bass-162604.json', 'r') as file:\n",
    "        data = json.load(file)\n",
    "    traverse_json(data)\n"
   ]
  }
 ],
 "metadata": {
  "kernelspec": {
   "display_name": "music",
   "language": "python",
   "name": "python3"
  },
  "language_info": {
   "codemirror_mode": {
    "name": "ipython",
    "version": 3
   },
   "file_extension": ".py",
   "mimetype": "text/x-python",
   "name": "python",
   "nbconvert_exporter": "python",
   "pygments_lexer": "ipython3",
   "version": "3.11.6"
  }
 },
 "nbformat": 4,
 "nbformat_minor": 2
}
